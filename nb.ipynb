{
 "cells": [
  {
   "cell_type": "code",
   "execution_count": 2,
   "metadata": {},
   "outputs": [],
   "source": [
    "import openai\n",
    "import os\n",
    "import json\n",
    "\n",
    "# Get the API key from environment variables\n",
    "from dotenv import load_dotenv, find_dotenv\n",
    "_ = load_dotenv(find_dotenv()) # read local .env file\n",
    "openai.api_key = os.environ['OPENAI_API_KEY']"
   ]
  },
  {
   "cell_type": "markdown",
   "metadata": {},
   "source": [
    "# Clean the Corpus copy.txt"
   ]
  },
  {
   "cell_type": "code",
   "execution_count": 49,
   "metadata": {},
   "outputs": [
    {
     "data": {
      "text/plain": [
       "['Virginia Tech (VT), formally the Virginia Polytechnic Institute and State University (VPI),[9] is a public land-grant research university with its main campus in Blacksburg, Virginia. It also has educational facilities in six regions statewide, a research center in Punta Cana, Dominican Republic, and a study-abroad site in Riva San Vitale, Switzerland. Through its Corps of Cadets ROTC program, Virginia Tech is a senior military college.[10]\\nVirginia Tech offers 280 undergraduate and graduate degree programs to its 37,000 students; as of 2016, it was the state\\'s second-largest public university by enrollment.[11] It is classified among \"R1: Doctoral Universities – Very high research activity\".[12]\\nThe university\\'s athletic teams are known as the Virginia Tech Hokies and compete in Division I of the NCAA as members of the Atlantic Coast Conference. VT alumni include 2 Rhodes Scholars, 4 Marshall Scholars, 38 Goldwater Scholars, and 131 Fulbright Scholars.[a][14][15][16] Among its alumni are 8 Medal of Honor recipients, 97 flag officers, governors of two U.S. states, 2 astronauts, and a billionaire.[17][18] Three Nobel laureates and one MacArthur Fellow have received a degree or served as faculty members at the university. As of 2015, VT had more than 240,000 living alumni worldwide.[19]\\nIn 1872, with federal funds provided by the Morrill Act of 1862, the Reconstruction-era Virginia General Assembly purchased the facilities of Preston and Olin Institute, a small Methodist school for boys in Southwest Virginia\\'s rural Montgomery County. That same year, 250 acres (100\\xa0ha) of the adjoining Solitude Farm including the house and several farm buildings on the estate were acquired for $21,250 from Robert Taylor Preston, a son of Governor of Virginia, James Patton Preston.[20][21] The commonwealth incorporated a new institution on the site, a state-supported land-grant military institute named Virginia Agricultural and Mechanical College.[22]\\nVirginia Tech\\'s first student, Addison \"Add\" Caldwell registered on October 1, 1872, after hiking over 25 miles from his home in Craig County, Virginia. A statue, located in the Upper Quad of campus commemorates Add\\'s journey to enroll.[23] First-year cadets and their training cadre re-enact Addison Caldwell\\'s journey every year in the Caldwell March. They complete the first half of the 26-mile march in the fall and the second half in the spring.[24]\\nThe first five presidents of Virginia Agricultural and Mechanical College served in the Confederate States Army or the Confederate government during the Civil War as did many of its early professors including the first Commandant, James H. Lane, a VMI graduate and former Confederate General who taught civil engineering and commerce at the college and is the namesake of Lane Hall, one of the oldest buildings on campus, built in 1888.[25] Its third president, Thomas Nelson Conrad, was a notorious Confederate spy who ran a covert intelligence gathering operation from a home in the heart of Washington, D.C.. Its sixth president, Paul Brandon Barringer, was a son of Confederate General Rufus Barringer and a nephew of Confederate Generals Stonewall Jackson and Daniel Harvey Hill.\\nIn a nod to this southern heritage the Confederate Battle Flag was traditionally waved by cheerleaders at Virginia Tech football games and the Highty-Tighties played Dixie as a fight song when the Hokies scored a touchdown. A large Confederate flag also hung inside Cassell Coliseum where Virginia Tech basketball games are played.[26] Since 1963, \"Skipper\", a replica of a Civil War cannon has been fired at football games by members of the Corps of Cadets when the team scores.[27] The Confederate Flag was also prominently featured on all Virginia Tech class rings.[28] The display of the Confederate flag at athletic events ended in the late 1960s after Marguerite Harper, a black woman attending Virginia Tech on a Rockefeller Scholarship for culturally disadvantaged students, was elected to the student senate during her sophomore year and made a successful resolution to end the practice. Following the resolution there was a large demonstration in opposition to the removal of the Confederate flag. The campus was covered in Confederate flags and Dixie was blasting from dormitory windows. Harper and her white roommate received hate mail and threatening phone calls, but the resolution stood, and the display of the rebel flag ended in 1969.[29] The Confederate flag on Virginia Tech class rings became optional in 1972 and could be left off of the ring at the student\\'s request.[30] The Confederate flag has since been removed from class ring designs entirely.\\nUnder the leadership of seventh president Joseph Dupuy Eggleston, who held the position from 1913 to 1919, the university established a Reserve Officer Training Corps to support national efforts during World War I. \\nIn 1917, physics professor Charles E. Vawter, Jr. (son of Charles E. Vawter, who had served on the VPI board of visitors from 1886 to 1900), shot Stockton Heth, Jr., a scion of one of Montgomery County\\'s wealthiest families, in his campus home on faculty row. Heth, who lived at Whitethorne, an antebellum mansion on a 1,500-acre estate near Blacksburg, later died of his wounds. Due to the Heth family\\'s wealth and political connections, Vawter\\'s position as head of the VPI physics department, and the extramarital affair that led to the shooting, the resulting murder trial was one of the most sensational in Virginia history (Vawter was acquitted, and left the school).[31] Eggleston attempted to suppress news of the affair in the media with considerable success, most likely due to world events that stole the headlines in the spring of 1917, rather than his efforts to protect VPI\\'s reputation.\\nDuring Thomas Nelson Conrad\\'s tenure as president, the college switched from semesters to the quarter system, which remained in place until the late 1980s. Under the 1891–1907 presidency of John McLaren McBryde, the school organized its academic programs into a traditional four-year college and a graduate department was founded. The evolution of the school\\'s programs led to a name change in 1896 to Virginia Agricultural and Mechanical College and Polytechnic Institute. The \"Agricultural and Mechanical College\" portion of the name was popularly omitted almost immediately; in 1944, the name was officially changed to Virginia Polytechnic Institute (VPI).[32]',\n",
       " 'VPI admitted its first female students in 1921 as civilian day students; they did not live on campus.  In 1923, VPI changed a policy of compulsory participation in the Corps of Cadets from four years to two years. In 1931, VPI began teaching classes at the Norfolk Division of the College of William and Mary (now Old Dominion University).[33] This program eventually developed into a two-year engineering program that allowed students to transfer to VPI for their final two years of degree work. The first women\\'s dormitory at VPI, Hillcrest Hall, was built in 1940. In 1943, VPI merged with Radford State Teachers College in nearby Radford, which became VPI\\'s women\\'s division; the merger was dissolved in 1964. Today, Radford University is a co-educational research university that enrolls nearly 10,000 students and offers more than 150 undergraduate and graduate programs.[34]\\nIn 1953 under the leadership of President Walter Stephenson Newman, VPI became the first historically white, four-year public institution among the 11 states in the former Confederacy to admit a black undergraduate. Three more black students were admitted in 1954. At the time Virginia still enforced Jim Crow laws and largely practiced racial segregation in public and private education, churches, neighborhoods, restaurants, and movie theaters and these first black students at VPI were not allowed to live in residence halls or eat in the dining halls on campus. Instead, they boarded with African American families in Blacksburg. In 1958, Charlie L. Yates made history as the first African American to graduate from VPI. Yates earned a bachelor\\'s degree in mechanical engineering, with honors, and was hailed as the first African American \"to be graduated from any major Southern engineering institute,\" according to news reports at the time.[35]\\nVPI President T. Marshall Hahn, whose tenure ran from 1962 to 1974,[36] was responsible for many of the programs and policies that transformed VPI from a small, historically white, predominately male, military institute with a primary focus on undergraduate teaching into a major co-educational research university. The student body that had been approximately 5,682 in 1962 increased by roughly 1,000 students each year, new dormitories and academic buildings were constructed, faculty members were added – in 1966, for instance, more than 100 new professors joined the faculty – and research budgets were increased.[36] During Hahn\\'s tenure, not only did the university graduate its first Rhodes Scholar, W.W. Lewis, Class of 1963,[37] the requirement for male students to participate in the Corps of Cadets for two years was dropped in 1964. Beginning in the fall 1973, women could participate in the Corps, making Virginia Tech among the nation\\'s first senior military colleges to integrate women.[38]\\nIn 1970, the state legislature allowed VPI university status and gave it the present legal name, Virginia Polytechnic Institute and State University. In the early 1990s, university administration authorized the official use of Virginia Tech as equivalent to the full legal name; it has been used as the first-reference name for the school\\'s athletic teams since the 1970s. However, diplomas and transcripts still spell out the formal name. Similarly, the abbreviation \"VT\" is far more common today than either VPI or VPI&SU.\\nDuring the Vietnam War, students on college campuses across the nation protested the draft and U.S. involvement in the conflict. Despite its long history as a military school, Virginia Tech was no exception. Most protests at Virginia Tech were small sit-ins and teach-ins, but In mid-April 1970 a group of anti-war protesters including students and faculty members disrupted a Corps of Cadets drill on campus. The Virginia Tech administration under Dr. Hahn took swift action. The students involved were suspended and the faculty members involved were fired from the university and the administration went to court and obtained an injunction to prevent them from repeating the act. This succeeded in calming tensions on campus, but only for a few weeks.[39]\\nTensions on campus reached the boiling point several days following the Kent State Shootings of illegal recruiting, the bitter departure of two athletic directors in less than a year and millions of dollars of debt run up by the university\\'s sports program due to mismanagement of financial resources, million dollar coaching contracts, and lavish expense accounts for athletics officials that led to a rebuke from Governor of Virginia, Gerald Baliles in 1987.  Baliles, the featured speaker at the Virginia Tech\\'s 115th annual commencement exercises, scolded the Virginia Tech Board of Visitors for the scandal and warned other state-supported institutions in Virginia not to put athletics ahead of academics.[43]\\nLavery developed a reorganization plan for the troubled Athletic Department, and Frank Beamer was hired to replace Bill Dooley as head football coach, but with negative publicity continuing to swirl within and around the university, he announced his resignation on October 16, 1987, effective December 31, 1987, to prevent polarization of the campus.[44] He was succeeded as president by James Douglas McComas who served until 1994.\\nDue to the unpopularity of US involvement in the Vietnam War enrollment in the Virginia Tech Corps of Cadets spiraled downward through the 1970s and 80s. In 1991 through the efforts of Henry Dekker (Class of 1944) The Corps of Cadets Alumni Inc. was created to save the corps, whose numbers had declined to only a few hundred students. In 1992 the alumni organization-initiated Corps Review, a newsletter that was expanded to a magazine in 2004 and targeted corps alumni. In the mid-1990s, the corps alumni organization set a goal of \"1000 in 2000\" and initiated a major campaign to push the number of cadets to 1,000 by the turn of the century. The goal was not reached, but membership in the corps did increase substantially by the end of the decade.[45]\\nThe early decades of this century have seen expansion across the university\\'s institutions in both physical and population sizes. In 2001, Virginia Tech acquired 326 acres of the Heth Farm adjacent to campus, increasing the College Farm to over 3,000 acres.[46] The Virginia Tech Carilion School of Medicine and Research Institute was created with a strategic partnership with the Carilion Clinic and the governor of Virginia. These years also brought about the rapid development of the university\\'s professional schools of graduate education and business programs. Virginia Tech brought in over $500 million in research expenditures in 2014.[47]\\nThe establishment of scholarships for cadets and a resurgence of national patriotism after the September 11 attacks helped the corps recruit new cadets, increasing the ranks to 1,127 by 2018—the largest corps the university has seen since the mid-1960s.[45][48] The Virginia Tech Corps of Cadets is poised to increase enrollment to 1,400 in coming years.[49]\\nOn April 16, 2007, Virginia Tech student Seung-Hui Cho fatally shot 32 faculty members and students and wounded 17 others in two locations on campus before killing himself. The massacre is the deadliest mass shooting on an American college campus, surpassing the University of Texas tower shooting in 1966. Although it was at the time the deadliest mass shooting committed by a lone gunman in U.S. history, it has since been surpassed by two shootings at an Orlando nightclub and an outdoor music festival in Las Vegas.[50][51][52] It is the second-deadliest school massacre in U.S. history, surpassed only by the Bath School bombing in 1927 that killed 44.[53]\\nThe Virginia Tech massacre led to an intense nationwide debate over gun rights, gun safety and efficacy of gun-free zones. It prompted many states to introduce legislation to prohibit public colleges and universities from banning concealed weapons on campus for permit holders. In 2013, at least 19 states introduced legislation to allow concealed carry on campus in some form, and in the 2014 legislative session, at least 14 states introduced similar legislation. In 2016, Tennessee passed a bill permitting faculty members to carry handguns on campus after notifying local law enforcement. In 2015, Texas became the eighth state to allow concealed weapons on college campuses. In December 2016, Governor John Kasich signed a bill into law that lifted Ohio\\'s statewide ban on firearms on college campuses, leaving the decision to the institutions.[54] In 2017, Georgia became the tenth state to prohibit colleges and universities from banning concealed weapons on campus.[55] Virginia law allows individual institutions to make the decision whether to allow concealed weapons on campus, but Virginia Tech continues to ban concealed carry permit holders from carrying guns on campus.[56]\\nAfter Amazon unveiled its second headquarters in Crystal City, Virginia, Virginia Tech announced plans to build a $1 billion graduate research center adjacent to the facility. The Virginia Tech Innovation Campus will be housed at a million-square-foot campus in Alexandria. It is expected to educate hundreds of graduate students. The Innovation Campus will focus on computer science and software engineering, with specializations in areas including artificial intelligence, cybersecurity and data analytics.[57]\\nDue to rapid growth of incoming freshmen classes, the university announced in 2019 that it would offer 1,559 incoming, in-state freshmen financial incentives to skip the 2019–20 school year in Blacksburg.[58] Expecting a larger-than-planned class size, the university budgeted $3.3 million for the endeavor. Virginia Tech also waived the requirement that freshmen live on campus for the 2019–20 school year, leased an off-campus Holiday Inn, and converted its on-campus hotel to house students.\\nVirginia Tech is a public university and one of Virginia\\'s two land-grant institutions. Its academic programs are administered by nine colleges, the Graduate School, and the Honors College.\\nVirginia Tech offers 116 bachelor\\'s degree programs through its nine undergraduate academic colleges,[60] 160 master\\'s and doctoral degree programs through the Graduate School, and a professional degree from the Virginia–Maryland College of Veterinary Medicine. In addition, the Virginia Tech Carilion School of Medicine and Research Institute is a public/private partnership jointly managed by Virginia Tech and the Carilion Clinic founded on January 3, 2007.[61]\\nVirginia Tech received a record number of nearly 22,500 applications for the fall 2015 freshman class, an increase of 7.6% from the previous year\\'s 20,897 applications for an overall admissions rate of 65.8%. The typical student offered admission had a high-school grade point average of 4.00, with the middle 50 percent ranging from 3.84 and 4.27. The average cumulative SAT score was 1250 (out of 1600), with a middle range ranging from 1160 to 1340. Of the 5,518 students who accepted the offers of admission (for an admissions yield of 38%)[discuss], 18 percent accepted under the Early Decision Plan.[64] The Office of Undergraduate Admissions is located within the Visitor and Undergraduate Admissions Center.[65]\\nVirginia Tech offers a highly selective Honors College, which provides undergraduate students 11 different ways to earn Honors credits towards one of the five Honors degree options. Once admitted, Honors students are required to maintain a 3.6 GPA in order to remain in the program. Roughly one-fourth of the approximately 1,600 University Honors students live in one of the two University Honors residential halls, the Honors Residential College located in East Ambler-Johnston and the Hillcrest Honors Community.[66]\\nFor the 2013–14 academic year, the Graduate School at Virginia Tech enrolled 6,723 graduate students (4,465 full-time; 2,258 part-time) in its masters and doctoral programs.[67]\\nThe Pamplin College of Business received 381 applications for its incoming Evening MBA program and offered admission to 142. The class\\'s average GMAT was 610, and mean undergraduate GPA was 3.4.[68]\\nThe Virginia Tech Carilion School of Medicine in Roanoke, Va., received 4,403 applications for its eighth incoming class, the class of 2021, and offered admission to 42. The class\\'s MCAT scores range was 503–520 (median 512, mean 512), and mean undergraduate GPA was 3.57.[69]\\nIn 2023, Virginia Tech became the second public university after the U.S. Supreme Court decided Students for Fair Admissions v. Harvard, banning affirmative action in college admissions, to end its use of legacy admissions.[70] The university also ended its binding early decision program because it \"created unneeded pressure on students [...] particularly those needing financial aid\".[70]\\nIn U.S. News & World Report\\'s list of \"2023 Best Colleges\", Virginia Tech tied for 62nd overall among national universities, tied for 23rd among public ones, tied at 41st for \"Most Innovative\", ranked 156th in \"Best Value Schools\", and tied for 291st in \"Top Performers on Social Mobility\".[81]\\nThe Pamplin College of Business\\'s part-time MBA program was tied for 19th overall by U.S. News & World Report in 2020.[79] The Master of Information Technology program, jointly sponsored by the Pamplin College of Business and the College of Engineering, is ranked No. 4 in U.S. News & World Report\\'s Best Online Graduate Computer Information Technology Programs.[82] This interdisciplinary program is offered entirely online.[82]\\nPrograms in the College of Architecture and Urban Studies (CAUS) include architecture + design, landscape architecture, urban planning, and public administration. In its 2016 \"America\\'s Best Architecture & Design Schools\" report, DesignIntelligence ranked the undergraduate architecture program 3rd nationally among both public and private universities. The graduate architecture program ranked 9th in the nation.[83] For 2013, DesignIntelligence ranked the university\\'s undergraduate and graduate landscape architecture programs No. 2 in the nation. In addition, DesignIntelligence ranked the university\\'s undergraduate interior design program 6th and undergraduate industrial design program 3rd.[84] The Planetizen 2012 Guide to Graduate Urban Planning Programs ranked Virginia Tech\\'s MURP program as 19th. Virginia Tech\\'s MURP program was also rated among the best programs in Technology, Land Use Planning, Environmental Planning, and Growth Management.[85]\\nKiplinger\\'s Personal Finance places Virginia Tech 20th in its 2019 ranking of 174 best value public colleges in the United States.[86] In 2018, CEOWORLD magazine ranked the undergraduate architecture program 3rd nationally.[87] The graduate architecture program ranked 14th.[88]\\nVirginia Tech received the following rankings from The Princeton Review in its 2017 Best 380 Colleges Rankings:[89]',\n",
       " \"Virginia Tech's research and development expenditures (R&D) were $542 million in fiscal year 2019, which ranked 48th among education institutions in the nation and 2nd in the state of Virginia according to the National Science Foundation.[90] As a result, Virginia Tech marked its 15th consecutive year of research growth, with the university's research portfolio more than doubling from $192.7 million in fiscal year 2000. The only Virginia institution in the top 50 of the NSF's rankings for research expenditures, Virginia Tech is No. 23 among public universities. The university's research expenditures rank it in the top 5 percent of more than 900 research universities and colleges. Each year, the university receives thousands of awards to conduct research from an ever-expanding base of sponsors. Researchers pursue new discoveries in agriculture, biotechnology, information and communication technology, human health, transportation, energy management (including leadership in fuel-cell technology and power electronics), security, sustainability, and a wide range of other engineering, scientific, social science, and creative fields. This research led to 36 patents and 17 license and option agreements in fiscal year 2013.[91]:\\u200a5\\u200a\\nThe Fralin Life Science Institute is an expansion of the Fralin Biotechnology Center, which was established in 1991.[92] Research at the institute is focused on the areas of vector-borne disease; infectious disease and microbial sciences; plant sciences; obesity; cancer biology; and ecology and organismal biology.[93]\\nThe Biocomplexity Institute of Virginia Tech, formerly known as the Virginia Bioinformatics Institute, is a bioinformatics, computational biology, and systems biology research facility that opened in 2000 on Virginia Tech's main campus in Blacksburg, Virginia. The institute houses more than 200 employees and multiple supercomputing clusters, and it has more than $109 million in active research awards.\\nThe Virginia Tech Transportation Institute (VTTI) was founded as the Center for Transportation Research in 1988 and employs more than 350 personnel. VTTI has more than $125 million in active research awards, and has a mission to save lives, save time, save money, and protect the environment. It is the second largest university-level transportation institute in the United States, and the largest group of driving safety researchers in the world. Facilities include the 2.2-mile (3.5\\xa0km), two-lane, fully instrumented Virginia Smart Road; connected-vehicle test beds in Southwest and Northern Virginia; more than 83,000 square feet of office and laboratory space; the VTTI/Center for Injury Biomechanics Crash Sled Lab; and the National Tire Research Center in Southern Virginia.[94] These laboratories include an asphalt lab, fully equipped garages, instrumentation bays, and a machine shop for working on VTTI's vehicle fleet.[95]\\nVTTI develops and tests advanced transportation safety devices, techniques, and innovative applications. VTTI's research impacts public policy in transportation, notably through research into distracted driving[96] and commercial hour-of-service.[97]\\nVTTI conducts applied research to address transportation challenges from various perspectives: vehicle, driver, infrastructure, materials, and environment.[47] Most notable among VTTI endeavors are its naturalistic driving studies. These studies particularly utilize VTTI's data acquisition systems, which gather continuous video and driving performance data in real-world driving conditions. These systems have been installed in nearly 4,000 passenger vehicles, commercial trucks and motor coaches, and motorcycles.[98]\\nSince 2005, the Institute for Critical Technology and Applied Science (ICTAS) has made efforts to build capacity at the intersection of engineering, science, biology, and the humanities. Thrust areas include nuclear engineering, nanoscale science and engineering, nano-bio interface, sustainable energy, safe and sustainable water, national security, cognition and communication systems, renewable materials, and emerging technologies. The first director was Roop L. Mahajan (2005–2016) and the current director is Dr. Stefan Duma (2016–present).[47]\\nOther research conducted throughout the university's colleges and interdisciplinary groups includes high-performance computing; advanced materials; wireless telecommunication; housing; human and animal health; cognition, development, and behavior; the environment; and energy, including power electronics, biofuels, fuel cells, and solar-powered building structures.[99]\\nThe Virginia Tech campus is in Blacksburg, Virginia. Most buildings are built of limestone in a neo-Gothic style. Notable green spaces include the Hahn Horticulture Garden, Virginia Tech Duck Pond, and the old-growth forest, Stadium Woods.\\nThe central campus is roughly bordered by Prices Fork Road to the northwest, Plantation Drive to the west, Main Street to the east, and US 460 Bypass to the south, though it has several thousand acres beyond the central campus.\\nIn the center of the Blacksburg campus lies the Drillfield, a large oval field running northeast to southwest, encircled by a one-way street that is known as Drillfield Drive. The Drillfield's name, coined in 1926 after the completion of Virginia Tech's first real stadium, Miles Stadium, stems from its use by the Virginia Tech Corps of Cadets to conduct military drills. A waterway, Stroubles Creek, runs beneath the Drillfield on the south side. A three-sided conduit for the creek that retains the natural bed of the creek was installed in 1934, and, in 1971, the first two asphalt walks were added. [104]\\nOn the northwestern side of the Drillfield stand most of the university's academic and administrative buildings, including Burruss and McBryde Halls. On the southeastern side of the Drillfield stand most of the residential buildings, including students' residence halls, dining halls, and War Memorial Gym. Newman Library is on the eastern side of campus and connects to Torgersen Bridge, which spans the main road into campus, Alumni Mall. North of the Drillfield and northwest of Alumni Mall lies the Upper Quad, known to many students as military campus. The Upper Quad is home to the Corps of Cadets' barracks.\\nOn the main campus in Blacksburg, most of the buildings incorporate Hokie Stone as a building material. In 2010, the board of visitors passed a resolution about using the gray stone, shaded by hues of brown and pink, in all building projects.[105]\\nThe university has established five branch campuses:[106]\",\n",
       " 'Virginia Tech\\'s presence in the Washington Metropolitan Area links regional graduate education and outreach programs that are consistent with the university\\'s strategic research areas of excellence: energy materials and environment, social and individual transformation, health, food, and nutrition, and innovative technologies and complex systems.[112]\\nSupporting the university\\'s missions is the Virginia Tech National Capital Region. The university has established collaborations and partnerships with local and federal agencies, nonprofit research organizations, businesses, and other institutions of higher education. Current locations include Alexandria, Arlington, Fairfax, Falls Church, Leesburg, Manassas, and Middleburg.\\nBiomedical Technology Development and Management is an executive program in the National Capital Region. The Master of Science in Biomedical Technology Development and Management (BTDM) is a graduate level degree created by Virginia Tech in response to future directions in medical product discovery and development and the emerging needs of industry and regulatory agencies. Curriculum for the degree program integrates science with technology, management, ethics, and public policy, and draws on the strengths of Virginia Tech in science, industrial and systems engineering, business and management, and medical research programs.[113]\\nIn 2014, the university opened a Language and Culture Institute location in Fairfax.[114] The institute offers intensive English language programs for college-age students, professionals, and diplomats.[115]\\nLocated on the eastern tip of the Dominican Republic, the Caribbean Center for Education and Research (CCER) in Punta Cana provides a base for Virginia Tech faculty to conduct research as well as instruct students on biodiversity, environmental and social sustainability, global issues in natural resources, and hotel and tourism management. The center is the product of a partnership between Virginia Tech and the PUNTACANA Ecological Foundation (PCEF) and the PUNTACANA Resort and Club. PCEF maintains a 2,000-acre (810\\xa0ha) natural forest reserve, 14 kilometres (8.7\\xa0mi) of protected coral reef, freshwater lagoons and coastal mangroves.[116]\\nRenamed the Steger Center for International Scholarship in 2014,[117] the Center for European Studies and Architecture (CESA) is the university\\'s European campus center and base for operations and support of its programs in the region. The center\\'s location in Riva San Vitale, Ticino, the Italian-speaking canton of Switzerland, is also close to major northern Italian cities such as Milan.[116]\\nVirginia Tech has several agricultural research and extension centers located throughout the Commonwealth dedicated to improving agricultural practices and the quality of life of Virginia citizens. The Virginia Tech Agricultural Research and Extension Centers are: Alson H. Smith, Jr., Eastern Shore, Eastern Virginia, Hampton Roads, Middleburg, Reynolds Homestead, Shenandoah Valley, Southern Piedmont, Southwest Virginia, Tidewater, and Virginia Seafood.\\nDistinguished by a towering 180-foot-high radial brick smokestack, the university\\'s coal fired Central Steam Power Plant generates an annual steam output greater than 943 billion BTUs and provides campus buildings with a portion of their heat, hot water, and electricity needs. Nearly 90 percent of campus buildings are connected to the plant through an extensive network of tunnels—the main access point is on the Drillfield—and more than six miles (9.7\\xa0km) of steam lines and piping provide heat to more than 6.8 million square feet of campus buildings. Only personnel with confined-space training are permitted to enter the tunnel system, comprising 2.76 miles (4.44\\xa0km) of inaccessible tunnel and 11.07 miles (17.82\\xa0km) of piping; 3.78 miles (6.08\\xa0km) of direct-bury piping in the ground; and 2.2 miles (3.5\\xa0km) of accessible tunnel and 12.27 miles (19.75\\xa0km) of piping.[118]\\nThere are more than 700 student organizations on campus. Some of these organizations include Bolt at Virginia Tech which builds electric racing motorcycles; PRISM a student-run ad agency; BASIS at Virginia Tech the largest student-run fixed income portfolio group in the nation managing $5 million; the Chocolate Milk Club; and a Young Life Chapter. Over 9,300 Virginia Tech students reside on campus.[120]\\nUntil 1923, every able-bodied male was required to participate for four years in the Virginia Tech Corps of Cadets. The requirement was changed to two years until 1964, when participation became voluntary. Members of the ROTC program are required to participate in the Corps of Cadets. Virginia Tech remains one of three public universities in the United States with both an active corps of cadets and regular civilian students on its campus (Texas A&M University and the University of North Georgia are the other two).\\nMore than 1,000 cadets reside on the campus of Virginia Tech. The Corps of Cadets Community is located in the Upper Quad, which features some of the oldest buildings on campus. Cadet dorms are also known as \"cadet barracks\". Two new dormitories were constructed on the Upper Quad to house all of the cadets. Pearson Hall replaced Rasche Hall in November 2015, and in August 2017, Brodie Hall was replaced by the New Cadet Dorm (a.k.a. \"New Brodie\").[121] Former cadet dorms, Thomas Hall and Monteith Hall were demolished in 2017. Their sites are planned to be used as green space for the foreseeable future.\\nVirginia Tech hosts a number of fraternities and sororities across four governing councils. There are 23 IFC fraternities and 13 National Panhellenic Conference sororities recognized at Virginia Tech. The fraternity and sorority community currently encompasses more than 5,500 students which represents just about 20 percent of the undergraduate population.[122] The Oak Lane Community[123] houses those sororities and fraternities which have houses chartered on campus. A number of fraternities have chartered off-campus housing. There are also numerous other academic and service-related sororities and fraternities at the school, as well as various historically Black and cultural interest organizations.[122]\\nThere are also a number of fraternities at Virginia Tech that are not officially recognized by the university. \\nVirginia Tech teams are known as the Hokies. The HokieBird is a turkey-like creature whose form has evolved from the original school mascot of the Fighting Gobbler. While the modern HokieBird still resembles a Fighting Gobbler, the word \"Hokie\" has all but replaced Fighting Gobbler in terms of colloquial use. The term originated from the Old Hokie yell. \\nThey compete as a member of the National Collegiate Athletic Association (NCAA) Division I level (Football Bowl Subdivision (FBS) sub-level for football), primarily competing in the Atlantic Coast Conference (ACC) for all sports since the 2004–05 season. The Hokies previously competed in the Big East Conference from 2000–01 to 2003–04 (football program from 1991–92 to 1999–2000); the Atlantic 10 Conference (A-10) from 1995–96 to 1999–2000; and the Metro Conference from 1978–79 to 1994–95.\\nMen\\'s sports include baseball, basketball, cross country, football, golf, soccer, swimming & diving, tennis, track & field and wrestling. Women\\'s sports include basketball, cross country, field hockey, golf, lacrosse, rowing, soccer, softball, swimming & diving, tennis, track & field and volleyball.\\nVirginia Tech\\'s fight song, \"Tech Triumph\", was written in 1919 and remains in use today. The song is played at sporting events by both the Virginia Tech student band, The Marching Virginians, and the regimental Corps of Cadets\\' band, the Highty Tighties.\\nThe most prominent athletic facilities are Lane Stadium, Cassell Coliseum, English Field, Thompson Field, Tech Softball Park, Rector Field House, the Beamer-Lawson Indoor Practice Facility, and the Christiansburg Aquatic Center.\\nCassell Coliseum Thompson Field',\n",
       " \"Notable current and former faculty at Virginia Tech include Romesh Batra (biomedical engineering), Patricia Dove (geosciences), Marc Edwards (civil and environmental engineering), Roger Ekirch (history), Nikki Giovanni (English), Michael Hochella (geosciences),  Liviu Librescu (engineering science and mechanics), Tim Luke (political science), Linsey Marr (civil and environmental engineering), Xiang-Jin Meng (virology), Arun Phadke (electrical engineering), James Robertson (history), Arthur Squires (chemical engineering), James Thorp (electrical engineering), John Tyson (biology), and Gary Wamsley (public administration).\\nThere have been 17 university heads for Virginia Tech since its founding in 1872. The current president is Timothy Sands (previously provost of Purdue University), who has held the post since 2014.\\nVirginia Tech has over 240,000 alumni internationally and from all 50 states. The Virginia Tech Alumni Association has over 100 chapters and has been consistently regarded as one of the best in the nation.[89][125]\\nOne of six senior military colleges in the United States, Virginia Tech has produced numerous military leaders, among them 97 generals and admirals, including Carlton D. Everhart II, Commander, Air Mobility Command; Thomas C. Richards, Chief of Staff, Supreme Headquarters Allied Powers Europe; Lance L. Smith, Commander, United States Joint Forces Command; Jody A. Breckenridge, Commander, Coast Guard Pacific Area; William G. Boykin, Deputy Undersecretary of Defense for Intelligence, Commander, John F. Kennedy Special Warfare Center; and Wallace H. Robinson, Director, Defense Supply Agency.\\nEight alumni have been awarded the Medal of Honor, the highest award bestowed by the United States armed forces: Antoine August Michel Gaujot, Julien Edmund Victor Gaujot, Earle Davis Gregory, Herbert Joseph Thomas, Jimmie W. Monteith, Robert Edward Femoyer, Richard Thomas Shea, Jr., Gary Lee Miller; their names are inscribed on a marble cenotaph at the center of War Memorial Court on the Blacksburg campus.[126]\\nMany VT alumni have also served in civilian leadership roles: Chet Culver, 41st governor of Iowa; William Dodd, ambassador to Germany; Linda Swartz Taglialatela, ambassador to Barbados; Rob Wittman, member of the House of Representatives; Tony McNulty, member of Parliament for Harrow East; Deborah Hersman, 12th chairperson of the National Transportation Safety Board; Regina Dugan, 19th director, Defense Advanced Research Projects Agency; John H. Thompson, Director of the United States Census Bureau; Lawrence Koontz, Senior Justice of the Supreme Court of Virginia, and William K. Barlow and Matt Lohr, members of the Virginia House of Delegates.\\nOutside of public service, Virginia Tech alumni have made notable contributions in the fields of business, literature, music and journalism. These include children's book author and Newbery Medal recipient Kwame Alexander; author and former NASA engineer Homer Hickham; jazz guitarist Charlie Byrd; business executive Donaldson Brown; Boeing president and CEO Dave Calhoun; Norfolk Southern president and CEO Alan Shaw and television news anchor Hoda Kotb.\\nNotable Virginia Tech athletes include Nickeil Alexander-Walker, Frank Beamer, Allan Bristow, Kam Chancellor, Bimbo Coles, Dell Curry, Ace Custis, Renee Dennis, Bill Dooley, Jim Druckenmiller, Terrell Edmunds, Tremaine Edmunds, Bud Foster, Kendall Fuller, Kyle Fuller, Chuck Hartman, Sally Miles, Charles Moir, Johnny Oates, Bruce Smith, Tyrod Taylor, DeAngelo Hall, Isaiah Ford, Angela Tincher, and Michael Vick.[127]\"]"
      ]
     },
     "metadata": {},
     "output_type": "display_data"
    }
   ],
   "source": [
    "import re\n",
    "corpus = open('corpus copy human.txt', 'r').read()\n",
    "# split the corpus at blank lines\n",
    "corpus = re.split('\\n\\s*\\n', corpus)\n",
    "corpus = [s for s in corpus if len(s) > 0] # remove empty sentences\n",
    "display(corpus[:5])\n",
    "# save the corpus to a csv\n",
    "with open('corpus_list.txt', 'w') as f:\n",
    "    f.write('\\n'.join(corpus))"
   ]
  },
  {
   "cell_type": "markdown",
   "metadata": {},
   "source": [
    "# Extract QAs using ChatGPT"
   ]
  },
  {
   "cell_type": "code",
   "execution_count": 35,
   "metadata": {},
   "outputs": [],
   "source": [
    "core_messages = []\n",
    "core_messages.append({'role': 'system', 'content': \"\"\"\n",
    "                 You will be given a paragraph related to the college Virginia Tech. Your task is to generate question and answers related to Virginia Tech based on the sentence. You must return the questions and answers in a list of python dictionaries, or equivalently, a list of JSONs. An example of this format is given between the triple backticks ```[{\"question\": \"What is the capital of France?\", \"answer\": \"Paris\"}, {\"question\": \"When was Harvard founded?\", \"answer\": \"1636\"}]```\n",
    "                 \"\"\"})"
   ]
  },
  {
   "cell_type": "code",
   "execution_count": 54,
   "metadata": {},
   "outputs": [
    {
     "name": "stdout",
     "output_type": "stream",
     "text": [
      "Paragraph: 21 of 80\n",
      "Paragraph: 22 of 80\n",
      "Paragraph: 23 of 80\n",
      "Paragraph: 24 of 80\n",
      "Paragraph: 25 of 80\n",
      "Paragraph: 26 of 80\n",
      "Paragraph: 27 of 80\n",
      "Paragraph: 28 of 80\n",
      "Paragraph: 29 of 80\n",
      "Paragraph: 30 of 80\n",
      "Paragraph: 31 of 80\n",
      "Paragraph: 32 of 80\n",
      "Paragraph: 33 of 80\n",
      "Paragraph: 34 of 80\n",
      "Paragraph: 35 of 80\n",
      "Paragraph: 36 of 80\n",
      "Paragraph: 37 of 80\n",
      "Paragraph: 38 of 80\n",
      "Paragraph: 39 of 80\n",
      "Paragraph: 40 of 80\n",
      "Paragraph: 41 of 80\n",
      "Paragraph: 42 of 80\n",
      "Paragraph: 43 of 80\n",
      "Paragraph: 44 of 80\n",
      "Paragraph: 45 of 80\n",
      "Paragraph: 46 of 80\n",
      "Paragraph: 47 of 80\n",
      "Paragraph: 48 of 80\n",
      "Paragraph: 49 of 80\n",
      "Paragraph: 50 of 80\n",
      "Paragraph: 51 of 80\n",
      "Paragraph: 52 of 80\n",
      "Paragraph: 53 of 80\n",
      "Paragraph: 54 of 80\n",
      "Error in parsing response. Skipping paragraph 54\n",
      "Paragraph: 55 of 80\n",
      "Paragraph: 56 of 80\n",
      "Paragraph: 57 of 80\n",
      "Paragraph: 58 of 80\n",
      "Paragraph: 59 of 80\n",
      "Paragraph: 60 of 80\n",
      "Paragraph: 61 of 80\n",
      "Paragraph: 62 of 80\n",
      "Paragraph: 63 of 80\n",
      "Paragraph: 64 of 80\n",
      "Paragraph: 65 of 80\n",
      "Paragraph: 66 of 80\n",
      "Paragraph: 67 of 80\n",
      "Paragraph: 68 of 80\n",
      "Paragraph: 69 of 80\n",
      "Paragraph: 70 of 80\n",
      "Paragraph: 71 of 80\n",
      "Paragraph: 72 of 80\n",
      "Paragraph: 73 of 80\n",
      "Paragraph: 74 of 80\n",
      "Paragraph: 75 of 80\n",
      "Paragraph: 76 of 80\n",
      "Paragraph: 77 of 80\n",
      "Paragraph: 78 of 80\n",
      "Paragraph: 79 of 80\n"
     ]
    }
   ],
   "source": [
    "qas = []\n",
    "start_index = 21\n",
    "for i, p in enumerate(corpus[start_index:]):\n",
    "    print(f'Paragraph: {i+start_index} of {len(corpus)}')\n",
    "    temp_messages = core_messages + [{'role': 'user', 'content': p}]\n",
    "    response = openai.ChatCompletion.create(\n",
    "        model='gpt-3.5-turbo',\n",
    "        messages=temp_messages,\n",
    "        frequency_penalty=0.0,\n",
    "        presence_penalty=0.0,\n",
    "        temperature=0.7,\n",
    "        stream=False,\n",
    "    )\n",
    "    try:\n",
    "        d = json.loads(response.choices[0].message['content'])\n",
    "        qas += d\n",
    "        with open('qas.json', 'w') as file:\n",
    "            json.dump(qas, file, indent=4)\n",
    "    except: \n",
    "        print(f'Error in parsing response. Skipping paragraph {i+start_index}')\n",
    "        pass"
   ]
  },
  {
   "cell_type": "code",
   "execution_count": 55,
   "metadata": {},
   "outputs": [],
   "source": [
    "# Compile all of the json files that start with \"qas\" into one big json file\n",
    "import glob\n",
    "import json\n",
    "qas = []\n",
    "for file in glob.glob(\"qas*.json\"):\n",
    "    with open(file, 'r') as f:\n",
    "        qas += json.load(f)\n",
    "\n",
    "with open('qas_final_v2.json', 'w') as file:\n",
    "    json.dump(qas, file, indent=4)"
   ]
  },
  {
   "cell_type": "code",
   "execution_count": 56,
   "metadata": {},
   "outputs": [
    {
     "data": {
      "text/plain": [
       "1448"
      ]
     },
     "execution_count": 56,
     "metadata": {},
     "output_type": "execute_result"
    }
   ],
   "source": [
    "len(qas)"
   ]
  },
  {
   "cell_type": "code",
   "execution_count": 4,
   "metadata": {},
   "outputs": [],
   "source": [
    "# Turn the final json file into a csv\n",
    "import pandas as pd\n",
    "df = pd.read_json('qas_final_v2.json')\n",
    "df.to_csv('qas_final_v2.csv')"
   ]
  },
  {
   "cell_type": "markdown",
   "metadata": {},
   "source": [
    "# Export the Annotated Data"
   ]
  },
  {
   "cell_type": "code",
   "execution_count": 8,
   "metadata": {},
   "outputs": [
    {
     "name": "stdout",
     "output_type": "stream",
     "text": [
      "1445\n"
     ]
    },
    {
     "data": {
      "text/html": [
       "<div>\n",
       "<style scoped>\n",
       "    .dataframe tbody tr th:only-of-type {\n",
       "        vertical-align: middle;\n",
       "    }\n",
       "\n",
       "    .dataframe tbody tr th {\n",
       "        vertical-align: top;\n",
       "    }\n",
       "\n",
       "    .dataframe thead th {\n",
       "        text-align: right;\n",
       "    }\n",
       "</style>\n",
       "<table border=\"1\" class=\"dataframe\">\n",
       "  <thead>\n",
       "    <tr style=\"text-align: right;\">\n",
       "      <th></th>\n",
       "      <th>id</th>\n",
       "      <th>question</th>\n",
       "      <th>answer</th>\n",
       "      <th>label</th>\n",
       "    </tr>\n",
       "  </thead>\n",
       "  <tbody>\n",
       "    <tr>\n",
       "      <th>0</th>\n",
       "      <td>0</td>\n",
       "      <td>What is the full name of Virginia Tech?</td>\n",
       "      <td>Virginia Polytechnic Institute and State Unive...</td>\n",
       "      <td>1.0</td>\n",
       "    </tr>\n",
       "    <tr>\n",
       "      <th>1</th>\n",
       "      <td>1</td>\n",
       "      <td>Where is the main campus of Virginia Tech loca...</td>\n",
       "      <td>Blacksburg, Virginia</td>\n",
       "      <td>1.0</td>\n",
       "    </tr>\n",
       "    <tr>\n",
       "      <th>2</th>\n",
       "      <td>2</td>\n",
       "      <td>How many students does Virginia Tech have?</td>\n",
       "      <td>37,000</td>\n",
       "      <td>1.0</td>\n",
       "    </tr>\n",
       "    <tr>\n",
       "      <th>3</th>\n",
       "      <td>3</td>\n",
       "      <td>What is the classification of Virginia Tech am...</td>\n",
       "      <td>R1: Doctoral Universities - Very high research...</td>\n",
       "      <td>1.0</td>\n",
       "    </tr>\n",
       "    <tr>\n",
       "      <th>4</th>\n",
       "      <td>4</td>\n",
       "      <td>What are the athletic teams of Virginia Tech c...</td>\n",
       "      <td>Virginia Tech Hokies</td>\n",
       "      <td>1.0</td>\n",
       "    </tr>\n",
       "  </tbody>\n",
       "</table>\n",
       "</div>"
      ],
      "text/plain": [
       "   id                                           question  \\\n",
       "0   0            What is the full name of Virginia Tech?   \n",
       "1   1  Where is the main campus of Virginia Tech loca...   \n",
       "2   2         How many students does Virginia Tech have?   \n",
       "3   3  What is the classification of Virginia Tech am...   \n",
       "4   4  What are the athletic teams of Virginia Tech c...   \n",
       "\n",
       "                                              answer  label  \n",
       "0  Virginia Polytechnic Institute and State Unive...    1.0  \n",
       "1                               Blacksburg, Virginia    1.0  \n",
       "2                                             37,000    1.0  \n",
       "3  R1: Doctoral Universities - Very high research...    1.0  \n",
       "4                               Virginia Tech Hokies    1.0  "
      ]
     },
     "execution_count": 8,
     "metadata": {},
     "output_type": "execute_result"
    }
   ],
   "source": [
    "import pandas as pd\n",
    "df = pd.read_csv('annotated_data_1_.csv')\n",
    "print(len(df))\n",
    "df.head()"
   ]
  },
  {
   "cell_type": "code",
   "execution_count": 9,
   "metadata": {},
   "outputs": [
    {
     "data": {
      "text/plain": [
       "id          0\n",
       "question    0\n",
       "answer      0\n",
       "label       0\n",
       "dtype: int64"
      ]
     },
     "execution_count": 9,
     "metadata": {},
     "output_type": "execute_result"
    }
   ],
   "source": [
    "# check for rows with empty values\n",
    "df.isnull().sum()"
   ]
  },
  {
   "cell_type": "code",
   "execution_count": 10,
   "metadata": {},
   "outputs": [
    {
     "data": {
      "text/html": [
       "<div>\n",
       "<style scoped>\n",
       "    .dataframe tbody tr th:only-of-type {\n",
       "        vertical-align: middle;\n",
       "    }\n",
       "\n",
       "    .dataframe tbody tr th {\n",
       "        vertical-align: top;\n",
       "    }\n",
       "\n",
       "    .dataframe thead th {\n",
       "        text-align: right;\n",
       "    }\n",
       "</style>\n",
       "<table border=\"1\" class=\"dataframe\">\n",
       "  <thead>\n",
       "    <tr style=\"text-align: right;\">\n",
       "      <th></th>\n",
       "      <th>id</th>\n",
       "      <th>question</th>\n",
       "      <th>answer</th>\n",
       "      <th>label</th>\n",
       "    </tr>\n",
       "  </thead>\n",
       "  <tbody>\n",
       "    <tr>\n",
       "      <th>199</th>\n",
       "      <td>199</td>\n",
       "      <td>When will Matthew M. Winston Jr. start his new...</td>\n",
       "      <td>On November 1.</td>\n",
       "      <td>0.0</td>\n",
       "    </tr>\n",
       "    <tr>\n",
       "      <th>250</th>\n",
       "      <td>250</td>\n",
       "      <td>What did President Minor say was impossible to...</td>\n",
       "      <td>all that is to be desired</td>\n",
       "      <td>0.0</td>\n",
       "    </tr>\n",
       "    <tr>\n",
       "      <th>314</th>\n",
       "      <td>314</td>\n",
       "      <td>What is the name of the college mentioned in t...</td>\n",
       "      <td>Virginia Tech</td>\n",
       "      <td>0.0</td>\n",
       "    </tr>\n",
       "    <tr>\n",
       "      <th>315</th>\n",
       "      <td>315</td>\n",
       "      <td>What is the topic of the paragraph?</td>\n",
       "      <td>Senior Year</td>\n",
       "      <td>0.0</td>\n",
       "    </tr>\n",
       "    <tr>\n",
       "      <th>316</th>\n",
       "      <td>316</td>\n",
       "      <td>What subject is mentioned in the paragraph?</td>\n",
       "      <td>Book-Keeping</td>\n",
       "      <td>0.0</td>\n",
       "    </tr>\n",
       "    <tr>\n",
       "      <th>...</th>\n",
       "      <td>...</td>\n",
       "      <td>...</td>\n",
       "      <td>...</td>\n",
       "      <td>...</td>\n",
       "    </tr>\n",
       "    <tr>\n",
       "      <th>1205</th>\n",
       "      <td>1205</td>\n",
       "      <td>Who else registered on the same day?</td>\n",
       "      <td>Mic</td>\n",
       "      <td>0.0</td>\n",
       "    </tr>\n",
       "    <tr>\n",
       "      <th>1206</th>\n",
       "      <td>1206</td>\n",
       "      <td>How many students were matriculated during the...</td>\n",
       "      <td>30</td>\n",
       "      <td>0.0</td>\n",
       "    </tr>\n",
       "    <tr>\n",
       "      <th>1225</th>\n",
       "      <td>1225</td>\n",
       "      <td>Until when did students have the option to eat...</td>\n",
       "      <td>1881</td>\n",
       "      <td>0.0</td>\n",
       "    </tr>\n",
       "    <tr>\n",
       "      <th>1299</th>\n",
       "      <td>1299</td>\n",
       "      <td>Who was Virginia Tech's director of athletics ...</td>\n",
       "      <td>Frank Moseley</td>\n",
       "      <td>0.0</td>\n",
       "    </tr>\n",
       "    <tr>\n",
       "      <th>1401</th>\n",
       "      <td>1401</td>\n",
       "      <td>What is the purpose of marching in memory of C...</td>\n",
       "      <td>It is not mentioned in the paragraph</td>\n",
       "      <td>0.0</td>\n",
       "    </tr>\n",
       "  </tbody>\n",
       "</table>\n",
       "<p>250 rows × 4 columns</p>\n",
       "</div>"
      ],
      "text/plain": [
       "        id                                           question  \\\n",
       "199    199  When will Matthew M. Winston Jr. start his new...   \n",
       "250    250  What did President Minor say was impossible to...   \n",
       "314    314  What is the name of the college mentioned in t...   \n",
       "315    315                What is the topic of the paragraph?   \n",
       "316    316        What subject is mentioned in the paragraph?   \n",
       "...    ...                                                ...   \n",
       "1205  1205               Who else registered on the same day?   \n",
       "1206  1206  How many students were matriculated during the...   \n",
       "1225  1225  Until when did students have the option to eat...   \n",
       "1299  1299  Who was Virginia Tech's director of athletics ...   \n",
       "1401  1401  What is the purpose of marching in memory of C...   \n",
       "\n",
       "                                    answer  label  \n",
       "199                         On November 1.    0.0  \n",
       "250              all that is to be desired    0.0  \n",
       "314                          Virginia Tech    0.0  \n",
       "315                            Senior Year    0.0  \n",
       "316                           Book-Keeping    0.0  \n",
       "...                                    ...    ...  \n",
       "1205                                   Mic    0.0  \n",
       "1206                                    30    0.0  \n",
       "1225                                  1881    0.0  \n",
       "1299                         Frank Moseley    0.0  \n",
       "1401  It is not mentioned in the paragraph    0.0  \n",
       "\n",
       "[250 rows x 4 columns]"
      ]
     },
     "metadata": {},
     "output_type": "display_data"
    }
   ],
   "source": [
    "display(df[df['label'] == 0])"
   ]
  },
  {
   "cell_type": "code",
   "execution_count": 6,
   "metadata": {},
   "outputs": [
    {
     "name": "stdout",
     "output_type": "stream",
     "text": [
      "1195\n"
     ]
    }
   ],
   "source": [
    "# filter out the rows with 0 labels, count, and export to csv\n",
    "df_filtered = df[df['label'] == 1]\n",
    "print(len(df_filtered))\n",
    "df_filtered.to_csv('data_filtered.csv')"
   ]
  },
  {
   "cell_type": "markdown",
   "metadata": {},
   "source": [
    "# Data Augmentation"
   ]
  },
  {
   "cell_type": "code",
   "execution_count": 6,
   "metadata": {},
   "outputs": [],
   "source": [
    "import pandas as pd\n",
    "import nlpaug.augmenter.word as naw"
   ]
  },
  {
   "cell_type": "code",
   "execution_count": 4,
   "metadata": {},
   "outputs": [
    {
     "data": {
      "text/html": [
       "<div>\n",
       "<style scoped>\n",
       "    .dataframe tbody tr th:only-of-type {\n",
       "        vertical-align: middle;\n",
       "    }\n",
       "\n",
       "    .dataframe tbody tr th {\n",
       "        vertical-align: top;\n",
       "    }\n",
       "\n",
       "    .dataframe thead th {\n",
       "        text-align: right;\n",
       "    }\n",
       "</style>\n",
       "<table border=\"1\" class=\"dataframe\">\n",
       "  <thead>\n",
       "    <tr style=\"text-align: right;\">\n",
       "      <th></th>\n",
       "      <th>question</th>\n",
       "      <th>answer</th>\n",
       "    </tr>\n",
       "  </thead>\n",
       "  <tbody>\n",
       "    <tr>\n",
       "      <th>0</th>\n",
       "      <td>What is the full name of Virginia Tech?</td>\n",
       "      <td>Virginia Polytechnic Institute and State Unive...</td>\n",
       "    </tr>\n",
       "    <tr>\n",
       "      <th>1</th>\n",
       "      <td>Where is the main campus of Virginia Tech loca...</td>\n",
       "      <td>Blacksburg, Virginia</td>\n",
       "    </tr>\n",
       "    <tr>\n",
       "      <th>2</th>\n",
       "      <td>How many students does Virginia Tech have?</td>\n",
       "      <td>37,000</td>\n",
       "    </tr>\n",
       "    <tr>\n",
       "      <th>3</th>\n",
       "      <td>What is the classification of Virginia Tech am...</td>\n",
       "      <td>R1: Doctoral Universities - Very high research...</td>\n",
       "    </tr>\n",
       "    <tr>\n",
       "      <th>4</th>\n",
       "      <td>What are the athletic teams of Virginia Tech c...</td>\n",
       "      <td>Virginia Tech Hokies</td>\n",
       "    </tr>\n",
       "  </tbody>\n",
       "</table>\n",
       "</div>"
      ],
      "text/plain": [
       "                                            question  \\\n",
       "0            What is the full name of Virginia Tech?   \n",
       "1  Where is the main campus of Virginia Tech loca...   \n",
       "2         How many students does Virginia Tech have?   \n",
       "3  What is the classification of Virginia Tech am...   \n",
       "4  What are the athletic teams of Virginia Tech c...   \n",
       "\n",
       "                                              answer  \n",
       "0  Virginia Polytechnic Institute and State Unive...  \n",
       "1                               Blacksburg, Virginia  \n",
       "2                                             37,000  \n",
       "3  R1: Doctoral Universities - Very high research...  \n",
       "4                               Virginia Tech Hokies  "
      ]
     },
     "execution_count": 4,
     "metadata": {},
     "output_type": "execute_result"
    }
   ],
   "source": [
    "# import the data\n",
    "data = pd.read_csv('data/data_filtered.csv').drop(columns=['Unnamed: 0', 'id', 'label'])\n",
    "data.head()"
   ]
  },
  {
   "cell_type": "code",
   "execution_count": 8,
   "metadata": {},
   "outputs": [
    {
     "name": "stderr",
     "output_type": "stream",
     "text": [
      "Some weights of FSMTForConditionalGeneration were not initialized from the model checkpoint at facebook/wmt19-en-de and are newly initialized: ['model.encoder.embed_positions.weight', 'model.decoder.embed_positions.weight']\n",
      "You should probably TRAIN this model on a down-stream task to be able to use it for predictions and inference.\n",
      "Some weights of FSMTForConditionalGeneration were not initialized from the model checkpoint at facebook/wmt19-de-en and are newly initialized: ['model.encoder.embed_positions.weight', 'model.decoder.embed_positions.weight']\n",
      "You should probably TRAIN this model on a down-stream task to be able to use it for predictions and inference.\n"
     ]
    },
    {
     "data": {
      "application/vnd.jupyter.widget-view+json": {
       "model_id": "0d2fa28778984985915ecd91095e8ba4",
       "version_major": 2,
       "version_minor": 0
      },
      "text/plain": [
       "Downloading (…)okenizer_config.json:   0%|          | 0.00/67.0 [00:00<?, ?B/s]"
      ]
     },
     "metadata": {},
     "output_type": "display_data"
    },
    {
     "data": {
      "application/vnd.jupyter.widget-view+json": {
       "model_id": "533f8738a7c54851aa29c0e5535873a2",
       "version_major": 2,
       "version_minor": 0
      },
      "text/plain": [
       "Downloading (…)/main/vocab-src.json:   0%|          | 0.00/849k [00:00<?, ?B/s]"
      ]
     },
     "metadata": {},
     "output_type": "display_data"
    },
    {
     "data": {
      "application/vnd.jupyter.widget-view+json": {
       "model_id": "152e47ec26ab4b42ac4867704849c4c5",
       "version_major": 2,
       "version_minor": 0
      },
      "text/plain": [
       "Downloading (…)olve/main/merges.txt:   0%|          | 0.00/315k [00:00<?, ?B/s]"
      ]
     },
     "metadata": {},
     "output_type": "display_data"
    }
   ],
   "source": [
    "back_translation_aug = naw.BackTranslationAug(\n",
    "    from_model_name='facebook/wmt19-en-de',\n",
    "    to_model_name='facebook/wmt19-de-en'\n",
    ")"
   ]
  },
  {
   "cell_type": "code",
   "execution_count": 14,
   "metadata": {},
   "outputs": [
    {
     "ename": "ValueError",
     "evalue": "Length of values (1) does not match length of index (1195)",
     "output_type": "error",
     "traceback": [
      "\u001b[0;31m---------------------------------------------------------------------------\u001b[0m",
      "\u001b[0;31mValueError\u001b[0m                                Traceback (most recent call last)",
      "\u001b[1;32m/home/lance/Projects/cs5624/nb.ipynb Cell 19\u001b[0m line \u001b[0;36m1\n\u001b[0;32m----> <a href='vscode-notebook-cell:/home/lance/Projects/cs5624/nb.ipynb#X24sZmlsZQ%3D%3D?line=0'>1</a>\u001b[0m data[\u001b[39m'\u001b[39;49m\u001b[39mquestion\u001b[39;49m\u001b[39m'\u001b[39;49m] \u001b[39m=\u001b[39m back_translation_aug\u001b[39m.\u001b[39maugment(data[\u001b[39m'\u001b[39m\u001b[39mquestion\u001b[39m\u001b[39m'\u001b[39m])\n\u001b[1;32m      <a href='vscode-notebook-cell:/home/lance/Projects/cs5624/nb.ipynb#X24sZmlsZQ%3D%3D?line=1'>2</a>\u001b[0m data[\u001b[39m'\u001b[39m\u001b[39manswer\u001b[39m\u001b[39m'\u001b[39m] \u001b[39m=\u001b[39m back_translation_aug\u001b[39m.\u001b[39maugment(data[\u001b[39m'\u001b[39m\u001b[39manswer\u001b[39m\u001b[39m'\u001b[39m])\n",
      "File \u001b[0;32m~/miniconda3/envs/cs5624/lib/python3.11/site-packages/pandas/core/frame.py:4094\u001b[0m, in \u001b[0;36mDataFrame.__setitem__\u001b[0;34m(self, key, value)\u001b[0m\n\u001b[1;32m   4091\u001b[0m     \u001b[39mself\u001b[39m\u001b[39m.\u001b[39m_setitem_array([key], value)\n\u001b[1;32m   4092\u001b[0m \u001b[39melse\u001b[39;00m:\n\u001b[1;32m   4093\u001b[0m     \u001b[39m# set column\u001b[39;00m\n\u001b[0;32m-> 4094\u001b[0m     \u001b[39mself\u001b[39;49m\u001b[39m.\u001b[39;49m_set_item(key, value)\n",
      "File \u001b[0;32m~/miniconda3/envs/cs5624/lib/python3.11/site-packages/pandas/core/frame.py:4303\u001b[0m, in \u001b[0;36mDataFrame._set_item\u001b[0;34m(self, key, value)\u001b[0m\n\u001b[1;32m   4293\u001b[0m \u001b[39mdef\u001b[39;00m \u001b[39m_set_item\u001b[39m(\u001b[39mself\u001b[39m, key, value) \u001b[39m-\u001b[39m\u001b[39m>\u001b[39m \u001b[39mNone\u001b[39;00m:\n\u001b[1;32m   4294\u001b[0m \u001b[39m    \u001b[39m\u001b[39m\"\"\"\u001b[39;00m\n\u001b[1;32m   4295\u001b[0m \u001b[39m    Add series to DataFrame in specified column.\u001b[39;00m\n\u001b[1;32m   4296\u001b[0m \n\u001b[0;32m   (...)\u001b[0m\n\u001b[1;32m   4301\u001b[0m \u001b[39m    ensure homogeneity.\u001b[39;00m\n\u001b[1;32m   4302\u001b[0m \u001b[39m    \"\"\"\u001b[39;00m\n\u001b[0;32m-> 4303\u001b[0m     value, refs \u001b[39m=\u001b[39m \u001b[39mself\u001b[39;49m\u001b[39m.\u001b[39;49m_sanitize_column(value)\n\u001b[1;32m   4305\u001b[0m     \u001b[39mif\u001b[39;00m (\n\u001b[1;32m   4306\u001b[0m         key \u001b[39min\u001b[39;00m \u001b[39mself\u001b[39m\u001b[39m.\u001b[39mcolumns\n\u001b[1;32m   4307\u001b[0m         \u001b[39mand\u001b[39;00m value\u001b[39m.\u001b[39mndim \u001b[39m==\u001b[39m \u001b[39m1\u001b[39m\n\u001b[1;32m   4308\u001b[0m         \u001b[39mand\u001b[39;00m \u001b[39mnot\u001b[39;00m \u001b[39misinstance\u001b[39m(value\u001b[39m.\u001b[39mdtype, ExtensionDtype)\n\u001b[1;32m   4309\u001b[0m     ):\n\u001b[1;32m   4310\u001b[0m         \u001b[39m# broadcast across multiple columns if necessary\u001b[39;00m\n\u001b[1;32m   4311\u001b[0m         \u001b[39mif\u001b[39;00m \u001b[39mnot\u001b[39;00m \u001b[39mself\u001b[39m\u001b[39m.\u001b[39mcolumns\u001b[39m.\u001b[39mis_unique \u001b[39mor\u001b[39;00m \u001b[39misinstance\u001b[39m(\u001b[39mself\u001b[39m\u001b[39m.\u001b[39mcolumns, MultiIndex):\n",
      "File \u001b[0;32m~/miniconda3/envs/cs5624/lib/python3.11/site-packages/pandas/core/frame.py:5042\u001b[0m, in \u001b[0;36mDataFrame._sanitize_column\u001b[0;34m(self, value)\u001b[0m\n\u001b[1;32m   5039\u001b[0m     \u001b[39mreturn\u001b[39;00m _reindex_for_setitem(value, \u001b[39mself\u001b[39m\u001b[39m.\u001b[39mindex)\n\u001b[1;32m   5041\u001b[0m \u001b[39mif\u001b[39;00m is_list_like(value):\n\u001b[0;32m-> 5042\u001b[0m     com\u001b[39m.\u001b[39;49mrequire_length_match(value, \u001b[39mself\u001b[39;49m\u001b[39m.\u001b[39;49mindex)\n\u001b[1;32m   5043\u001b[0m \u001b[39mreturn\u001b[39;00m sanitize_array(value, \u001b[39mself\u001b[39m\u001b[39m.\u001b[39mindex, copy\u001b[39m=\u001b[39m\u001b[39mTrue\u001b[39;00m, allow_2d\u001b[39m=\u001b[39m\u001b[39mTrue\u001b[39;00m), \u001b[39mNone\u001b[39;00m\n",
      "File \u001b[0;32m~/miniconda3/envs/cs5624/lib/python3.11/site-packages/pandas/core/common.py:561\u001b[0m, in \u001b[0;36mrequire_length_match\u001b[0;34m(data, index)\u001b[0m\n\u001b[1;32m    557\u001b[0m \u001b[39m\u001b[39m\u001b[39m\"\"\"\u001b[39;00m\n\u001b[1;32m    558\u001b[0m \u001b[39mCheck the length of data matches the length of the index.\u001b[39;00m\n\u001b[1;32m    559\u001b[0m \u001b[39m\"\"\"\u001b[39;00m\n\u001b[1;32m    560\u001b[0m \u001b[39mif\u001b[39;00m \u001b[39mlen\u001b[39m(data) \u001b[39m!=\u001b[39m \u001b[39mlen\u001b[39m(index):\n\u001b[0;32m--> 561\u001b[0m     \u001b[39mraise\u001b[39;00m \u001b[39mValueError\u001b[39;00m(\n\u001b[1;32m    562\u001b[0m         \u001b[39m\"\u001b[39m\u001b[39mLength of values \u001b[39m\u001b[39m\"\u001b[39m\n\u001b[1;32m    563\u001b[0m         \u001b[39mf\u001b[39m\u001b[39m\"\u001b[39m\u001b[39m(\u001b[39m\u001b[39m{\u001b[39;00m\u001b[39mlen\u001b[39m(data)\u001b[39m}\u001b[39;00m\u001b[39m) \u001b[39m\u001b[39m\"\u001b[39m\n\u001b[1;32m    564\u001b[0m         \u001b[39m\"\u001b[39m\u001b[39mdoes not match length of index \u001b[39m\u001b[39m\"\u001b[39m\n\u001b[1;32m    565\u001b[0m         \u001b[39mf\u001b[39m\u001b[39m\"\u001b[39m\u001b[39m(\u001b[39m\u001b[39m{\u001b[39;00m\u001b[39mlen\u001b[39m(index)\u001b[39m}\u001b[39;00m\u001b[39m)\u001b[39m\u001b[39m\"\u001b[39m\n\u001b[1;32m    566\u001b[0m     )\n",
      "\u001b[0;31mValueError\u001b[0m: Length of values (1) does not match length of index (1195)"
     ]
    }
   ],
   "source": [
    "data['question'] = back_translation_aug.augment(data['question'])\n",
    "data['answer'] = back_translation_aug.augment(data['answer'])"
   ]
  },
  {
   "cell_type": "code",
   "execution_count": 6,
   "metadata": {},
   "outputs": [],
   "source": [
    "# read lines of data from a text file\n",
    "import json\n",
    "with open('7b_training_data.txt', 'r') as f:\n",
    "    corpus = f.readlines()\n",
    "\n",
    "corpus = [json.loads(s.strip().replace(\"'\", '\"')) for s in corpus]\n",
    "\n",
    "# dump the dictionary to a json file\n",
    "with open('7b_training_data.json', 'w') as f:\n",
    "    json.dump(corpus, f, indent=4)"
   ]
  },
  {
   "cell_type": "code",
   "execution_count": null,
   "metadata": {},
   "outputs": [],
   "source": []
  }
 ],
 "metadata": {
  "kernelspec": {
   "display_name": "cs5624",
   "language": "python",
   "name": "python3"
  },
  "language_info": {
   "codemirror_mode": {
    "name": "ipython",
    "version": 3
   },
   "file_extension": ".py",
   "mimetype": "text/x-python",
   "name": "python",
   "nbconvert_exporter": "python",
   "pygments_lexer": "ipython3",
   "version": "3.11.5"
  }
 },
 "nbformat": 4,
 "nbformat_minor": 2
}
